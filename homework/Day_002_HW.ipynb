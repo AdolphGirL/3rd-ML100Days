{
 "cells": [
  {
   "cell_type": "code",
   "execution_count": null,
   "metadata": {
    "collapsed": true
   },
   "outputs": [],
   "source": [
    "# 請找出一個你認為機器學習可以發光發熱的領域並闡述原因?\n",
    "\n",
    "# 農業應用；\n",
    "# 目前氣候極端變遷，導致有發生農損的可能性越來越高。\n",
    "# 將機器學習導入農業中，可以根據收集的溫溼度、季節、土壤酸鹼等資料，\n",
    "# 預測出每個時節、甚至每天可能面對的環境狀況，加以調整耕作行為，\n",
    "# 以減少損害，完成更有效率的耕種方式，最終產出更好品質的作物。"
   ]
  }
 ],
 "metadata": {
  "kernelspec": {
   "display_name": "Python 3",
   "language": "python",
   "name": "python3"
  },
  "language_info": {
   "codemirror_mode": {
    "name": "ipython",
    "version": 3
   },
   "file_extension": ".py",
   "mimetype": "text/x-python",
   "name": "python",
   "nbconvert_exporter": "python",
   "pygments_lexer": "ipython3",
   "version": "3.6.0"
  }
 },
 "nbformat": 4,
 "nbformat_minor": 1
}
