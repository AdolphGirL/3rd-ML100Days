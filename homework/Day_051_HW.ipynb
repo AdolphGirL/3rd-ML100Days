{
 "cells": [
  {
   "cell_type": "code",
   "execution_count": 1,
   "metadata": {},
   "outputs": [
    {
     "name": "stdout",
     "output_type": "stream",
     "text": [
      "[+] train_data_path: ../Data/train_data.csv\n",
      "[+] train_data shape: (113, 22)\n",
      "[+] train_data columns type\n"
     ]
    },
    {
     "data": {
      "text/plain": [
       "name                          object\n",
       "bonus                        float64\n",
       "deferral_payments            float64\n",
       "deferred_income              float64\n",
       "director_fees                float64\n",
       "email_address                 object\n",
       "exercised_stock_options      float64\n",
       "expenses                     float64\n",
       "from_messages                float64\n",
       "from_poi_to_this_person      float64\n",
       "from_this_person_to_poi      float64\n",
       "loan_advances                float64\n",
       "long_term_incentive          float64\n",
       "other                        float64\n",
       "poi                             bool\n",
       "restricted_stock             float64\n",
       "restricted_stock_deferred    float64\n",
       "salary                       float64\n",
       "shared_receipt_with_poi      float64\n",
       "to_messages                  float64\n",
       "total_payments               float64\n",
       "total_stock_value            float64\n",
       "dtype: object"
      ]
     },
     "execution_count": 1,
     "metadata": {},
     "output_type": "execute_result"
    }
   ],
   "source": [
    "import pandas as pd\n",
    "import numpy as np\n",
    "import os\n",
    "\n",
    "data_path = '../Data/'\n",
    "train_data_path = os.path.join(data_path, 'train_data.csv')\n",
    "print('[+] train_data_path: {}'.format(train_data_path))\n",
    "\n",
    "train_data = pd.read_csv(train_data_path)\n",
    "print('[+] train_data shape: {}'.format(train_data.shape))\n",
    "print('[+] train_data columns type')\n",
    "\n",
    "train_data.dtypes"
   ]
  },
  {
   "cell_type": "code",
   "execution_count": 2,
   "metadata": {},
   "outputs": [
    {
     "name": "stdout",
     "output_type": "stream",
     "text": [
      "[+] train_data object column each num \n",
      "name             113\n",
      "email_address     83\n",
      "dtype: int64\n"
     ]
    }
   ],
   "source": [
    "# 檢視資料中[類別型欄位]各自類別的數量\n",
    "print('[+] train_data object column each num \\n{}'.format(train_data.select_dtypes(include=[\"object\"]).apply(pd.Series.nunique, axis=0)))"
   ]
  },
  {
   "cell_type": "code",
   "execution_count": 3,
   "metadata": {
    "scrolled": true
   },
   "outputs": [
    {
     "data": {
      "text/html": [
       "<div>\n",
       "<style scoped>\n",
       "    .dataframe tbody tr th:only-of-type {\n",
       "        vertical-align: middle;\n",
       "    }\n",
       "\n",
       "    .dataframe tbody tr th {\n",
       "        vertical-align: top;\n",
       "    }\n",
       "\n",
       "    .dataframe thead th {\n",
       "        text-align: right;\n",
       "    }\n",
       "</style>\n",
       "<table border=\"1\" class=\"dataframe\">\n",
       "  <thead>\n",
       "    <tr style=\"text-align: right;\">\n",
       "      <th></th>\n",
       "      <th>name</th>\n",
       "      <th>email_address</th>\n",
       "      <th>poi</th>\n",
       "    </tr>\n",
       "  </thead>\n",
       "  <tbody>\n",
       "    <tr>\n",
       "      <th>0</th>\n",
       "      <td>RICE KENNETH D</td>\n",
       "      <td>ken.rice@enron.com</td>\n",
       "      <td>True</td>\n",
       "    </tr>\n",
       "    <tr>\n",
       "      <th>1</th>\n",
       "      <td>SKILLING JEFFREY K</td>\n",
       "      <td>jeff.skilling@enron.com</td>\n",
       "      <td>True</td>\n",
       "    </tr>\n",
       "    <tr>\n",
       "      <th>2</th>\n",
       "      <td>SHELBY REX</td>\n",
       "      <td>rex.shelby@enron.com</td>\n",
       "      <td>True</td>\n",
       "    </tr>\n",
       "    <tr>\n",
       "      <th>3</th>\n",
       "      <td>KOPPER MICHAEL J</td>\n",
       "      <td>michael.kopper@enron.com</td>\n",
       "      <td>True</td>\n",
       "    </tr>\n",
       "    <tr>\n",
       "      <th>4</th>\n",
       "      <td>CALGER CHRISTOPHER F</td>\n",
       "      <td>christopher.calger@enron.com</td>\n",
       "      <td>True</td>\n",
       "    </tr>\n",
       "  </tbody>\n",
       "</table>\n",
       "</div>"
      ],
      "text/plain": [
       "                   name                 email_address   poi\n",
       "0        RICE KENNETH D            ken.rice@enron.com  True\n",
       "1    SKILLING JEFFREY K       jeff.skilling@enron.com  True\n",
       "2            SHELBY REX          rex.shelby@enron.com  True\n",
       "3      KOPPER MICHAEL J      michael.kopper@enron.com  True\n",
       "4  CALGER CHRISTOPHER F  christopher.calger@enron.com  True"
      ]
     },
     "execution_count": 3,
     "metadata": {},
     "output_type": "execute_result"
    }
   ],
   "source": [
    "train_data[['name', 'email_address', 'poi']].head()"
   ]
  },
  {
   "cell_type": "code",
   "execution_count": 4,
   "metadata": {},
   "outputs": [
    {
     "data": {
      "text/html": [
       "<div>\n",
       "<style scoped>\n",
       "    .dataframe tbody tr th:only-of-type {\n",
       "        vertical-align: middle;\n",
       "    }\n",
       "\n",
       "    .dataframe tbody tr th {\n",
       "        vertical-align: top;\n",
       "    }\n",
       "\n",
       "    .dataframe thead th {\n",
       "        text-align: right;\n",
       "    }\n",
       "</style>\n",
       "<table border=\"1\" class=\"dataframe\">\n",
       "  <thead>\n",
       "    <tr style=\"text-align: right;\">\n",
       "      <th></th>\n",
       "      <th>name</th>\n",
       "      <th>email_address</th>\n",
       "      <th>poi</th>\n",
       "    </tr>\n",
       "  </thead>\n",
       "  <tbody>\n",
       "    <tr>\n",
       "      <th>0</th>\n",
       "      <td>RICE KENNETH D</td>\n",
       "      <td>ken.rice@enron.com</td>\n",
       "      <td>1</td>\n",
       "    </tr>\n",
       "    <tr>\n",
       "      <th>1</th>\n",
       "      <td>SKILLING JEFFREY K</td>\n",
       "      <td>jeff.skilling@enron.com</td>\n",
       "      <td>1</td>\n",
       "    </tr>\n",
       "    <tr>\n",
       "      <th>2</th>\n",
       "      <td>SHELBY REX</td>\n",
       "      <td>rex.shelby@enron.com</td>\n",
       "      <td>1</td>\n",
       "    </tr>\n",
       "    <tr>\n",
       "      <th>3</th>\n",
       "      <td>KOPPER MICHAEL J</td>\n",
       "      <td>michael.kopper@enron.com</td>\n",
       "      <td>1</td>\n",
       "    </tr>\n",
       "    <tr>\n",
       "      <th>4</th>\n",
       "      <td>CALGER CHRISTOPHER F</td>\n",
       "      <td>christopher.calger@enron.com</td>\n",
       "      <td>1</td>\n",
       "    </tr>\n",
       "  </tbody>\n",
       "</table>\n",
       "</div>"
      ],
      "text/plain": [
       "                   name                 email_address  poi\n",
       "0        RICE KENNETH D            ken.rice@enron.com    1\n",
       "1    SKILLING JEFFREY K       jeff.skilling@enron.com    1\n",
       "2            SHELBY REX          rex.shelby@enron.com    1\n",
       "3      KOPPER MICHAEL J      michael.kopper@enron.com    1\n",
       "4  CALGER CHRISTOPHER F  christopher.calger@enron.com    1"
      ]
     },
     "execution_count": 4,
     "metadata": {},
     "output_type": "execute_result"
    }
   ],
   "source": [
    "from sklearn.preprocessing import LabelEncoder\n",
    "\n",
    "# Label encoding 的表示方式會讓同一個欄位底下的類別之間有大小關係 (0<1<2<...)，所以在這裡我們只對有類別數量小於等於 2 的類別型欄位\n",
    "# 會比較洽當。。\n",
    "le = LabelEncoder()\n",
    "for col in train_data:\n",
    "    if train_data[col].dtype != 'float64':\n",
    "        if len(list(train_data[col].unique())) <= 2:\n",
    "            # Train on the training data && 缺失處理\n",
    "            train_data[col] = train_data[col].fillna('NaN')\n",
    "            le.fit(train_data[col])\n",
    "            train_data[col] = le.transform(train_data[col])\n",
    "train_data[['name', 'email_address', 'poi']].head()"
   ]
  },
  {
   "cell_type": "code",
   "execution_count": 40,
   "metadata": {},
   "outputs": [
    {
     "data": {
      "text/plain": [
       "(113, 216)"
      ]
     },
     "execution_count": 40,
     "metadata": {},
     "output_type": "execute_result"
    }
   ],
   "source": [
    "# one hot encoding，姓名和EMAIL差異過大，one hot encoding、Lable encoding不覺得洽當\n",
    "# train_data = pd.get_dummies(train_data)\n",
    "# train_data.dtypes\n",
    "# train_data.shape"
   ]
  },
  {
   "cell_type": "code",
   "execution_count": 5,
   "metadata": {},
   "outputs": [
    {
     "name": "stdout",
     "output_type": "stream",
     "text": [
      "[+] column_train_data shape: (22, 2)\n",
      "                        Count Column Type\n",
      "0                        name      object\n",
      "1                       bonus     float64\n",
      "2           deferral_payments     float64\n",
      "3             deferred_income     float64\n",
      "4               director_fees     float64\n",
      "5               email_address      object\n",
      "6     exercised_stock_options     float64\n",
      "7                    expenses     float64\n",
      "8               from_messages     float64\n",
      "9     from_poi_to_this_person     float64\n",
      "10    from_this_person_to_poi     float64\n",
      "11              loan_advances     float64\n",
      "12        long_term_incentive     float64\n",
      "13                      other     float64\n",
      "14                        poi        bool\n",
      "15           restricted_stock     float64\n",
      "16  restricted_stock_deferred     float64\n",
      "17                     salary     float64\n",
      "18    shared_receipt_with_poi     float64\n",
      "19                to_messages     float64\n",
      "20             total_payments     float64\n",
      "21          total_stock_value     float64\n",
      "[+] column_train_data shape: (3, 2)\n"
     ]
    },
    {
     "data": {
      "text/html": [
       "<div>\n",
       "<style scoped>\n",
       "    .dataframe tbody tr th:only-of-type {\n",
       "        vertical-align: middle;\n",
       "    }\n",
       "\n",
       "    .dataframe tbody tr th {\n",
       "        vertical-align: top;\n",
       "    }\n",
       "\n",
       "    .dataframe thead th {\n",
       "        text-align: right;\n",
       "    }\n",
       "</style>\n",
       "<table border=\"1\" class=\"dataframe\">\n",
       "  <thead>\n",
       "    <tr style=\"text-align: right;\">\n",
       "      <th></th>\n",
       "      <th>Column Type</th>\n",
       "      <th>Count</th>\n",
       "    </tr>\n",
       "  </thead>\n",
       "  <tbody>\n",
       "    <tr>\n",
       "      <th>0</th>\n",
       "      <td>bool</td>\n",
       "      <td>1</td>\n",
       "    </tr>\n",
       "    <tr>\n",
       "      <th>1</th>\n",
       "      <td>float64</td>\n",
       "      <td>19</td>\n",
       "    </tr>\n",
       "    <tr>\n",
       "      <th>2</th>\n",
       "      <td>object</td>\n",
       "      <td>2</td>\n",
       "    </tr>\n",
       "  </tbody>\n",
       "</table>\n",
       "</div>"
      ],
      "text/plain": [
       "  Column Type  Count\n",
       "0        bool      1\n",
       "1     float64     19\n",
       "2      object      2"
      ]
     },
     "execution_count": 5,
     "metadata": {},
     "output_type": "execute_result"
    }
   ],
   "source": [
    "train_data = pd.read_csv(train_data_path)\n",
    "\n",
    "# df.dtypes : 轉成以欄位為 index, 類別(type)為 value 的 DataFrame\n",
    "# reset_index() : 預設是將原本的 index 轉成一個新的欄位, 如果不須保留 index, 則通常會寫成 .reset_index(drop=True)\n",
    "column_train_data = train_data.dtypes.reset_index()\n",
    "print('[+] column_train_data shape: {}'.format(column_train_data.shape))\n",
    "column_train_data.columns = [\"Count\", \"Column Type\"]\n",
    "print(column_train_data)\n",
    "\n",
    "# 秀出資料欄位的類型, 與對應的數量\n",
    "column_train_data = column_train_data.groupby('Column Type').aggregate('count').reset_index()\n",
    "print('[+] column_train_data shape: {}'.format(column_train_data.shape))\n",
    "column_train_data"
   ]
  },
  {
   "cell_type": "code",
   "execution_count": 7,
   "metadata": {},
   "outputs": [
    {
     "name": "stdout",
     "output_type": "stream",
     "text": [
      "[+] bool_features: ['poi']\n",
      "[+] float64_features: ['bonus', 'deferral_payments', 'deferred_income', 'director_fees', 'exercised_stock_options', 'expenses', 'from_messages', 'from_poi_to_this_person', 'from_this_person_to_poi', 'loan_advances', 'long_term_incentive', 'other', 'restricted_stock', 'restricted_stock_deferred', 'salary', 'shared_receipt_with_poi', 'to_messages', 'total_payments', 'total_stock_value']\n",
      "[+] object_features: ['name', 'email_address']\n"
     ]
    }
   ],
   "source": [
    "bool_features = []\n",
    "float64_features = []\n",
    "object_features = []\n",
    "\n",
    "for col_type, col_name in zip(train_data.dtypes, train_data.columns):\n",
    "#     print('[+] column name: {} type: {} '.format(col_name, col_type))\n",
    "    if col_type == 'object':\n",
    "        object_features.append(col_name)\n",
    "    elif col_type == 'bool':\n",
    "        bool_features.append(col_name)\n",
    "    else:\n",
    "        float64_features.append(col_name)\n",
    "\n",
    "print('[+] bool_features: {}'.format(bool_features))\n",
    "print('[+] float64_features: {}'.format(float64_features))\n",
    "print('[+] object_features: {}'.format(object_features))"
   ]
  },
  {
   "cell_type": "code",
   "execution_count": 8,
   "metadata": {},
   "outputs": [
    {
     "data": {
      "text/html": [
       "<div>\n",
       "<style scoped>\n",
       "    .dataframe tbody tr th:only-of-type {\n",
       "        vertical-align: middle;\n",
       "    }\n",
       "\n",
       "    .dataframe tbody tr th {\n",
       "        vertical-align: top;\n",
       "    }\n",
       "\n",
       "    .dataframe thead th {\n",
       "        text-align: right;\n",
       "    }\n",
       "</style>\n",
       "<table border=\"1\" class=\"dataframe\">\n",
       "  <thead>\n",
       "    <tr style=\"text-align: right;\">\n",
       "      <th></th>\n",
       "      <th>name</th>\n",
       "      <th>email_address</th>\n",
       "    </tr>\n",
       "  </thead>\n",
       "  <tbody>\n",
       "    <tr>\n",
       "      <th>0</th>\n",
       "      <td>RICE KENNETH D</td>\n",
       "      <td>ken.rice@enron.com</td>\n",
       "    </tr>\n",
       "    <tr>\n",
       "      <th>1</th>\n",
       "      <td>SKILLING JEFFREY K</td>\n",
       "      <td>jeff.skilling@enron.com</td>\n",
       "    </tr>\n",
       "    <tr>\n",
       "      <th>2</th>\n",
       "      <td>SHELBY REX</td>\n",
       "      <td>rex.shelby@enron.com</td>\n",
       "    </tr>\n",
       "    <tr>\n",
       "      <th>3</th>\n",
       "      <td>KOPPER MICHAEL J</td>\n",
       "      <td>michael.kopper@enron.com</td>\n",
       "    </tr>\n",
       "    <tr>\n",
       "      <th>4</th>\n",
       "      <td>CALGER CHRISTOPHER F</td>\n",
       "      <td>christopher.calger@enron.com</td>\n",
       "    </tr>\n",
       "  </tbody>\n",
       "</table>\n",
       "</div>"
      ],
      "text/plain": [
       "                   name                 email_address\n",
       "0        RICE KENNETH D            ken.rice@enron.com\n",
       "1    SKILLING JEFFREY K       jeff.skilling@enron.com\n",
       "2            SHELBY REX          rex.shelby@enron.com\n",
       "3      KOPPER MICHAEL J      michael.kopper@enron.com\n",
       "4  CALGER CHRISTOPHER F  christopher.calger@enron.com"
      ]
     },
     "execution_count": 8,
     "metadata": {},
     "output_type": "execute_result"
    }
   ],
   "source": [
    "train_data[object_features].head()"
   ]
  },
  {
   "cell_type": "code",
   "execution_count": 14,
   "metadata": {},
   "outputs": [
    {
     "data": {
      "text/plain": [
       "count    6.100000e+01\n",
       "mean     1.147436e+06\n",
       "std      1.505189e+06\n",
       "min      7.000000e+04\n",
       "25%      4.500000e+05\n",
       "50%      7.500000e+05\n",
       "75%      1.000000e+06\n",
       "max      8.000000e+06\n",
       "Name: bonus, dtype: float64"
      ]
     },
     "execution_count": 14,
     "metadata": {},
     "output_type": "execute_result"
    }
   ],
   "source": [
    "train_data['bonus'].describe()"
   ]
  },
  {
   "cell_type": "code",
   "execution_count": 30,
   "metadata": {},
   "outputs": [
    {
     "name": "stdout",
     "output_type": "stream",
     "text": [
      "[+] bonus values count: \n",
      "700000.0     5\n",
      "600000.0     5\n",
      "1000000.0    4\n",
      "750000.0     4\n",
      "850000.0     3\n",
      "400000.0     3\n",
      "500000.0     2\n",
      "250000.0     2\n",
      "900000.0     2\n",
      "800000.0     2\n",
      "300000.0     2\n",
      "1200000.0    2\n",
      "350000.0     2\n",
      "200000.0     2\n",
      "325000.0     2\n",
      "1100000.0    2\n",
      "70000.0      1\n",
      "7000000.0    1\n",
      "788750.0     1\n",
      "1300000.0    1\n",
      "450000.0     1\n",
      "1150000.0    1\n",
      "2000000.0    1\n",
      "3100000.0    1\n",
      "650000.0     1\n",
      "1250000.0    1\n",
      "3000000.0    1\n",
      "8000000.0    1\n",
      "100000.0     1\n",
      "5600000.0    1\n",
      "1750000.0    1\n",
      "509870.0     1\n",
      "4175000.0    1\n",
      "Name: bonus, dtype: int64\n"
     ]
    },
    {
     "data": {
      "image/png": "[encoded data removed]",
      "text/plain": [
       "<Figure size 1440x720 with 1 Axes>"
      ]
     },
     "metadata": {
      "needs_background": "light"
     },
     "output_type": "display_data"
    }
   ],
   "source": [
    "import matplotlib.pyplot as plt\n",
    "%matplotlib inline\n",
    "\n",
    "plt.figure(figsize=(20, 10))\n",
    "# train_data['bonus'].hist()\n",
    "plt.hist(train_data['bonus'])\n",
    "plt.xlabel('bonus')\n",
    "print('[+] bonus values count: \\n{}'.format(train_data['bonus'].value_counts()))"
   ]
  },
  {
   "cell_type": "code",
   "execution_count": 41,
   "metadata": {},
   "outputs": [
    {
     "data": {
      "text/plain": [
       "['bonus',\n",
       " 'deferral_payments',\n",
       " 'deferred_income',\n",
       " 'director_fees',\n",
       " 'exercised_stock_options',\n",
       " 'expenses',\n",
       " 'from_messages',\n",
       " 'from_poi_to_this_person',\n",
       " 'from_this_person_to_poi',\n",
       " 'loan_advances',\n",
       " 'long_term_incentive',\n",
       " 'other',\n",
       " 'restricted_stock',\n",
       " 'restricted_stock_deferred',\n",
       " 'salary',\n",
       " 'shared_receipt_with_poi',\n",
       " 'to_messages',\n",
       " 'total_payments',\n",
       " 'total_stock_value']"
      ]
     },
     "execution_count": 41,
     "metadata": {},
     "output_type": "execute_result"
    }
   ],
   "source": [
    "import numpy as np\n",
    "train_data = pd.read_csv(train_data_path)\n",
    "\n",
    "# 篩選數值型的欄位\n",
    "# isin()接受一個列表，判斷該列中元素是否在列表中。\n",
    "# num_df = train_data.dtypes.isin([np.int64, np.float64])\n",
    "# print('[+] num_df type: {}'.format(type(num_df))) ----> pandas.core.series.Series\n",
    "\n",
    "numeric_columns = list(train_data.columns[train_data.dtypes.isin([np.int64, np.float64])])\n",
    "numeric_columns"
   ]
  },
  {
   "cell_type": "code",
   "execution_count": 45,
   "metadata": {},
   "outputs": [
    {
     "data": {
      "text/plain": [
       "['bonus',\n",
       " 'deferral_payments',\n",
       " 'deferred_income',\n",
       " 'director_fees',\n",
       " 'exercised_stock_options',\n",
       " 'expenses',\n",
       " 'from_messages',\n",
       " 'from_poi_to_this_person',\n",
       " 'from_this_person_to_poi',\n",
       " 'loan_advances',\n",
       " 'long_term_incentive',\n",
       " 'other',\n",
       " 'restricted_stock',\n",
       " 'restricted_stock_deferred',\n",
       " 'salary',\n",
       " 'shared_receipt_with_poi',\n",
       " 'to_messages',\n",
       " 'total_payments',\n",
       " 'total_stock_value']"
      ]
     },
     "execution_count": 45,
     "metadata": {},
     "output_type": "execute_result"
    }
   ],
   "source": [
    "# 再把只有 2 值 (通常是 0,1) 的欄位去掉\n",
    "numeric_columns = list(train_data[numeric_columns].columns[train_data[numeric_columns].apply(lambda x:len(x.unique())!=2)])\n",
    "numeric_columns"
   ]
  },
  {
   "cell_type": "code",
   "execution_count": 46,
   "metadata": {},
   "outputs": [
    {
     "data": {
      "image/png": "[encoded data removed]",
      "text/plain": [
       "<Figure size 432x288 with 1 Axes>"
      ]
     },
     "metadata": {
      "needs_background": "light"
     },
     "output_type": "display_data"
    },
    {
     "data": {
      "image/png": "[encoded data removed]",
      "text/plain": [
       "<Figure size 432x288 with 1 Axes>"
      ]
     },
     "metadata": {
      "needs_background": "light"
     },
     "output_type": "display_data"
    },
    {
     "data": {
      "image/png": "[encoded data removed]",
      "text/plain": [
       "<Figure size 432x288 with 1 Axes>"
      ]
     },
     "metadata": {
      "needs_background": "light"
     },
     "output_type": "display_data"
    },
    {
     "data": {
      "image/png": "[encoded data removed]",
      "text/plain": [
       "<Figure size 432x288 with 1 Axes>"
      ]
     },
     "metadata": {
      "needs_background": "light"
     },
     "output_type": "display_data"
    },
    {
     "data": {
      "image/png": "[encoded data removed]",
      "text/plain": [
       "<Figure size 432x288 with 1 Axes>"
      ]
     },
     "metadata": {
      "needs_background": "light"
     },
     "output_type": "display_data"
    },
    {
     "data": {
      "image/png": "[encoded data removed]",
      "text/plain": [
       "<Figure size 432x288 with 1 Axes>"
      ]
     },
     "metadata": {
      "needs_background": "light"
     },
     "output_type": "display_data"
    },
    {
     "data": {
      "image/png": "[encoded data removed]",
      "text/plain": [
       "<Figure size 432x288 with 1 Axes>"
      ]
     },
     "metadata": {
      "needs_background": "light"
     },
     "output_type": "display_data"
    },
    {
     "data": {
      "image/png": "[encoded data removed]",
      "text/plain": [
       "<Figure size 432x288 with 1 Axes>"
      ]
     },
     "metadata": {
      "needs_background": "light"
     },
     "output_type": "display_data"
    },
    {
     "data": {
      "image/png": "[encoded data removed]",
      "text/plain": [
       "<Figure size 432x288 with 1 Axes>"
      ]
     },
     "metadata": {
      "needs_background": "light"
     },
     "output_type": "display_data"
    },
    {
     "data": {
      "image/png": "[encoded data removed]",
      "text/plain": [
       "<Figure size 432x288 with 1 Axes>"
      ]
     },
     "metadata": {
      "needs_background": "light"
     },
     "output_type": "display_data"
    },
    {
     "data": {
      "image/png": "[encoded data removed]",
      "text/plain": [
       "<Figure size 432x288 with 1 Axes>"
      ]
     },
     "metadata": {
      "needs_background": "light"
     },
     "output_type": "display_data"
    },
    {
     "data": {
      "image/png": "[encoded data removed]",
      "text/plain": [
       "<Figure size 432x288 with 1 Axes>"
      ]
     },
     "metadata": {
      "needs_background": "light"
     },
     "output_type": "display_data"
    },
    {
     "data": {
      "image/png": "[encoded data removed]",
      "text/plain": [
       "<Figure size 432x288 with 1 Axes>"
      ]
     },
     "metadata": {
      "needs_background": "light"
     },
     "output_type": "display_data"
    },
    {
     "data": {
      "image/png": "[encoded data removed]",
      "text/plain": [
       "<Figure size 432x288 with 1 Axes>"
      ]
     },
     "metadata": {
      "needs_background": "light"
     },
     "output_type": "display_data"
    },
    {
     "data": {
      "image/png": "[encoded data removed]",
      "text/plain": [
       "<Figure size 432x288 with 1 Axes>"
      ]
     },
     "metadata": {
      "needs_background": "light"
     },
     "output_type": "display_data"
    },
    {
     "data": {
      "image/png": "[encoded data removed]",
      "text/plain": [
       "<Figure size 432x288 with 1 Axes>"
      ]
     },
     "metadata": {
      "needs_background": "light"
     },
     "output_type": "display_data"
    },
    {
     "data": {
      "image/png": "[encoded data removed]",
      "text/plain": [
       "<Figure size 432x288 with 1 Axes>"
      ]
     },
     "metadata": {
      "needs_background": "light"
     },
     "output_type": "display_data"
    },
    {
     "data": {
      "image/png": "[encoded data removed]",
      "text/plain": [
       "<Figure size 432x288 with 1 Axes>"
      ]
     },
     "metadata": {
      "needs_background": "light"
     },
     "output_type": "display_data"
    },
    {
     "data": {
      "image/png": "[encoded data removed]",
      "text/plain": [
       "<Figure size 432x288 with 1 Axes>"
      ]
     },
     "metadata": {
      "needs_background": "light"
     },
     "output_type": "display_data"
    }
   ],
   "source": [
    "# 檢視這些欄位的數值範圍\n",
    "for col in numeric_columns:\n",
    "    train_data.boxplot(col)\n",
    "    plt.show()"
   ]
  },
  {
   "cell_type": "code",
   "execution_count": null,
   "metadata": {},
   "outputs": [],
   "source": []
  }
 ],
 "metadata": {
  "kernelspec": {
   "display_name": "Python 3",
   "language": "python",
   "name": "python3"
  },
  "language_info": {
   "codemirror_mode": {
    "name": "ipython",
    "version": 3
   },
   "file_extension": ".py",
   "mimetype": "text/x-python",
   "name": "python",
   "nbconvert_exporter": "python",
   "pygments_lexer": "ipython3",
   "version": "3.6.0"
  }
 },
 "nbformat": 4,
 "nbformat_minor": 1
}
